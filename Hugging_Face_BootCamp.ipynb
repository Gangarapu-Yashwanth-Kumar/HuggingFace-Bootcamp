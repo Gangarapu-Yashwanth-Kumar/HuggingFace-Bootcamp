{
 "cells": [
  {
   "cell_type": "markdown",
   "metadata": {
    "id": "yNw5AUCV_fCB"
   },
   "source": [
    "**Text Generation Model**"
   ]
  },
  {
   "cell_type": "code",
   "execution_count": 2,
   "metadata": {
    "colab": {
     "base_uri": "https://localhost:8080/"
    },
    "executionInfo": {
     "elapsed": 109,
     "status": "ok",
     "timestamp": 1757933367573,
     "user": {
      "displayName": "Yashwanth Kumar",
      "userId": "04073106945765763472"
     },
     "user_tz": -330
    },
    "id": "sslhJTDi-o0B",
    "outputId": "03514b88-e95a-40c0-b6ed-eb473005436c"
   },
   "outputs": [
    {
     "name": "stdout",
     "output_type": "stream",
     "text": [
      "Mon Sep 15 10:49:27 2025       \n",
      "+-----------------------------------------------------------------------------------------+\n",
      "| NVIDIA-SMI 550.54.15              Driver Version: 550.54.15      CUDA Version: 12.4     |\n",
      "|-----------------------------------------+------------------------+----------------------+\n",
      "| GPU  Name                 Persistence-M | Bus-Id          Disp.A | Volatile Uncorr. ECC |\n",
      "| Fan  Temp   Perf          Pwr:Usage/Cap |           Memory-Usage | GPU-Util  Compute M. |\n",
      "|                                         |                        |               MIG M. |\n",
      "|=========================================+========================+======================|\n",
      "|   0  Tesla T4                       Off |   00000000:00:04.0 Off |                    0 |\n",
      "| N/A   50C    P8             10W /   70W |       0MiB /  15360MiB |      0%      Default |\n",
      "|                                         |                        |                  N/A |\n",
      "+-----------------------------------------+------------------------+----------------------+\n",
      "                                                                                         \n",
      "+-----------------------------------------------------------------------------------------+\n",
      "| Processes:                                                                              |\n",
      "|  GPU   GI   CI        PID   Type   Process name                              GPU Memory |\n",
      "|        ID   ID                                                               Usage      |\n",
      "|=========================================================================================|\n",
      "|  No running processes found                                                             |\n",
      "+-----------------------------------------------------------------------------------------+\n"
     ]
    }
   ],
   "source": [
    "!nvidia-smi"
   ]
  },
  {
   "cell_type": "code",
   "execution_count": 3,
   "metadata": {
    "colab": {
     "base_uri": "https://localhost:8080/",
     "height": 625,
     "referenced_widgets": [
      "9f2a07930d7e4a1ab151cbe9f95b10cb",
      "67b976674ab049b6af728e80d28b42d3",
      "48262af4cf8443dea4768163d8cd69be",
      "e4b33eac997f4704bd361d271d4ffaba",
      "25ffbf68950544d7913bf5ef6d0d789c",
      "eab817b6d4894507ad230832729403cf",
      "2f3dfd5bea434802b9151dd4dcfe8e84",
      "7b744818150f43f9a9013fa717758e8f",
      "d7c205d9e62143c1bbdd324180a14d06",
      "cb5f3b96cd194f20ad48c3ed6885ac81",
      "21c83017177e444d9831c6b17951cf2b",
      "4cbcb7c9f8dd4be0b95d46e58a234242",
      "3ee69353b3ee40e888f98f01f7f748b5",
      "aec82a0480f245cf88acbbd42a9bee4e",
      "610efc9244d24106bdf19364b8d34ef5",
      "9ea85211cfb046c8b4c91aa40c29b77d",
      "4eaf1e6d5a8c476f8333e59eddbf2b77",
      "57782ad5bcc3425291404cbf902d0840",
      "054b3a7d20a54addbee83835b6cab55d",
      "21174c6a1c9843a3a90f107af272a385",
      "6b38660311504f898fb8c145fa00b317",
      "7305bd6c38c343129204410f833c03b8",
      "350906bc5dca4a92b180fd599f66d3fb",
      "6395d42755e841fba029fc55eeaa01f7",
      "2741ced7e0904ed3aa706dcd2b0eac44",
      "e260e99f52764374b933ff6a97dda18d",
      "ed1f0062080f4de4adf45d2b68231003",
      "969142b34bfb4b64aec15ec30b159425",
      "d70bdbdb2f8c4b839b0ec886ef0de1e7",
      "9d83f5fb17824354b05311bdc994662d",
      "54f65ab8f8f04dbfbcb6e156e0494ec0",
      "1621f589b9d040e195b6c0a6eea1d4d6",
      "8af72e48e89b4ac98e04971354d99bb1",
      "b77b7f16470e48d28d45068055397c5e",
      "a91e7cc9fe784f458de02d62d53338d9",
      "a4af20d2e0eb4ab8b2a879d742a0e117",
      "8594cb093baa4236a8ec70c9527743d8",
      "a5818067155145aea1de643c72fba223",
      "a6dc8fe1cb21401ba5d8c1243c077470",
      "8d3c19ce97b14cb2ad11960b9618f55f",
      "a7d81414cc1e4ac58a0f57e8ed391ea6",
      "c8ad49622f0447ac99c0d17d6b7738d4",
      "fa244086886e4ddaa782593f3b598ff2",
      "a704fd502b57412e9450710655073da4",
      "fd3e2bd91a9f4e238c1149951dd3b376",
      "4ddb1e8a1b724f2c8d3295dd7862ff88",
      "ee5ae3cabb324480a77b7f6d0d9c7542",
      "a0f27df9de0f4b0ca6b7e65a39d134eb",
      "d64c952ef6cc4d8f9391e049ce4a51a8",
      "68aa62cb2ca142d9b96ece10e48f8582",
      "88d8b4e753b6484697672b21c815f87d",
      "759709e293c74d2888cf8c415d41b7ab",
      "f6b66647a2604123aefbff519a91744d",
      "f3b582246e0a42a9a2c7fab49a0b6694",
      "9378b78e893743e58996bf12b4eca652",
      "270a523d52b349e4aa6cea2ac65561fe",
      "0c1aed71bea4446da528f1d70bd27eb9",
      "83729f7532fb4d41805e0554bc026afe",
      "274af6eaf1b5447b8fd5ec02cc721240",
      "f1c4dfa0b9994604811eb8bf2b52869d",
      "f7ce07778cc94d25b1cd7c6a718466ef",
      "8558022d96b8473795cf307da5b515cd",
      "399587738a214e85827a9ef2bb28354b",
      "c2e54e04dfcc49749aa0b931acb10dad",
      "8c47149e3e244ce584be93273f9576c5",
      "20e8771ac6d0446ea36fda46d5fd23ff",
      "182c568df7554ac28cd5691d4c6b9472",
      "65e1676422d4498fa27b7eb54195b4ed",
      "ef7201582f96400e8b0d8545c9a2402f",
      "3727211d7fee445fbcad84e5e539ef3a",
      "88835ef6847243588c829f042bcefccd",
      "124a2eeb670743eb83527c7570bc6ac5",
      "918d502ed8d74f97ab1ca18e735e5907",
      "2f476db72a1f458d9f4d834bfa8a9c80",
      "d7cb8bddda874db9b072262988dac1d9",
      "e1b3c5148233468184dd9af56f3b430c",
      "ba8f2c21071d46d597940145a50cb7ac"
     ]
    },
    "executionInfo": {
     "elapsed": 51983,
     "status": "ok",
     "timestamp": 1757933434607,
     "user": {
      "displayName": "Yashwanth Kumar",
      "userId": "04073106945765763472"
     },
     "user_tz": -330
    },
    "id": "rpV4W7qa-o2q",
    "outputId": "dc94ed28-5fea-472a-b9a1-2d614f6257ab"
   },
   "outputs": [
    {
     "name": "stderr",
     "output_type": "stream",
     "text": [
      "/usr/local/lib/python3.12/dist-packages/huggingface_hub/utils/_auth.py:94: UserWarning: \n",
      "The secret `HF_TOKEN` does not exist in your Colab secrets.\n",
      "To authenticate with the Hugging Face Hub, create a token in your settings tab (https://huggingface.co/settings/tokens), set it as secret in your Google Colab and restart your session.\n",
      "You will be able to reuse this secret in all of your notebooks.\n",
      "Please note that authentication is recommended but still optional to access public models or datasets.\n",
      "  warnings.warn(\n"
     ]
    },
    {
     "data": {
      "application/vnd.jupyter.widget-view+json": {
       "model_id": "9f2a07930d7e4a1ab151cbe9f95b10cb",
       "version_major": 2,
       "version_minor": 0
      },
      "text/plain": [
       "config.json:   0%|          | 0.00/665 [00:00<?, ?B/s]"
      ]
     },
     "metadata": {},
     "output_type": "display_data"
    },
    {
     "data": {
      "application/vnd.jupyter.widget-view+json": {
       "model_id": "4cbcb7c9f8dd4be0b95d46e58a234242",
       "version_major": 2,
       "version_minor": 0
      },
      "text/plain": [
       "model.safetensors:   0%|          | 0.00/548M [00:00<?, ?B/s]"
      ]
     },
     "metadata": {},
     "output_type": "display_data"
    },
    {
     "data": {
      "application/vnd.jupyter.widget-view+json": {
       "model_id": "350906bc5dca4a92b180fd599f66d3fb",
       "version_major": 2,
       "version_minor": 0
      },
      "text/plain": [
       "generation_config.json:   0%|          | 0.00/124 [00:00<?, ?B/s]"
      ]
     },
     "metadata": {},
     "output_type": "display_data"
    },
    {
     "data": {
      "application/vnd.jupyter.widget-view+json": {
       "model_id": "b77b7f16470e48d28d45068055397c5e",
       "version_major": 2,
       "version_minor": 0
      },
      "text/plain": [
       "tokenizer_config.json:   0%|          | 0.00/26.0 [00:00<?, ?B/s]"
      ]
     },
     "metadata": {},
     "output_type": "display_data"
    },
    {
     "data": {
      "application/vnd.jupyter.widget-view+json": {
       "model_id": "fd3e2bd91a9f4e238c1149951dd3b376",
       "version_major": 2,
       "version_minor": 0
      },
      "text/plain": [
       "vocab.json:   0%|          | 0.00/1.04M [00:00<?, ?B/s]"
      ]
     },
     "metadata": {},
     "output_type": "display_data"
    },
    {
     "data": {
      "application/vnd.jupyter.widget-view+json": {
       "model_id": "270a523d52b349e4aa6cea2ac65561fe",
       "version_major": 2,
       "version_minor": 0
      },
      "text/plain": [
       "merges.txt:   0%|          | 0.00/456k [00:00<?, ?B/s]"
      ]
     },
     "metadata": {},
     "output_type": "display_data"
    },
    {
     "data": {
      "application/vnd.jupyter.widget-view+json": {
       "model_id": "182c568df7554ac28cd5691d4c6b9472",
       "version_major": 2,
       "version_minor": 0
      },
      "text/plain": [
       "tokenizer.json:   0%|          | 0.00/1.36M [00:00<?, ?B/s]"
      ]
     },
     "metadata": {},
     "output_type": "display_data"
    },
    {
     "name": "stderr",
     "output_type": "stream",
     "text": [
      "Device set to use cuda:0\n",
      "Truncation was not explicitly activated but `max_length` is provided a specific value, please use `truncation=True` to explicitly truncate examples to max length. Defaulting to 'longest_first' truncation strategy. If you encode pairs of sequences (GLUE-style) with the tokenizer you can select this strategy more precisely by providing a specific strategy to `truncation`.\n",
      "Setting `pad_token_id` to `eos_token_id`:50256 for open-end generation.\n",
      "Both `max_new_tokens` (=256) and `max_length`(=50) seem to have been set. `max_new_tokens` will take precedence. Please refer to the documentation for more information. (https://huggingface.co/docs/transformers/main/en/main_classes/text_generation)\n"
     ]
    },
    {
     "name": "stdout",
     "output_type": "stream",
     "text": [
      "what is Hugging Face?\n",
      "\n",
      "You're right, Hugging Face is a kind of face mask, especially if you have a beard or a beard for your beard. Hugging Face is a kind of face mask because you're not using a mask, you're using a mask that's made out of hair.\n",
      "\n",
      "What are the differences between the two species of Face masks?\n",
      "\n",
      "The kind of mask is different in that it's made out of a kind of hair, and the kind of face that it's made out of is different in that you don't use a mask to hide your face. The kind of face that it's made out of is different because it's made out of a kind of hair.\n",
      "\n",
      "One of the features of your Face mask is that it's a mask made out of hair. It's made out of hair and it's made out of one piece of hair. And if you're wearing a mask that's made out of hair, then you're using one piece of hair that's made out of one piece of hair. And with Hugging Face, you're using one piece of hair that's made out of one piece of hair.\n",
      "\n",
      "You know, there's this kind of mask that can be made out of a really fine hair\n"
     ]
    }
   ],
   "source": [
    "from transformers import pipeline\n",
    "\n",
    "generator = pipeline(\"text-generation\", model = \"gpt2\")\n",
    "response = generator('what is Hugging Face', max_length =50, num_return_sequences = 1)\n",
    "print(response[0]['generated_text'])"
   ]
  },
  {
   "cell_type": "markdown",
   "metadata": {
    "id": "Hbo855CR_7uV"
   },
   "source": [
    "**Name Entity Recognitions (NER)**"
   ]
  },
  {
   "cell_type": "code",
   "execution_count": 5,
   "metadata": {
    "colab": {
     "base_uri": "https://localhost:8080/"
    },
    "executionInfo": {
     "elapsed": 902,
     "status": "ok",
     "timestamp": 1757933547979,
     "user": {
      "displayName": "Yashwanth Kumar",
      "userId": "04073106945765763472"
     },
     "user_tz": -330
    },
    "id": "-k9SAMPe-o5y",
    "outputId": "68045d4b-bf76-487f-d325-c1ce1991d518"
   },
   "outputs": [
    {
     "name": "stderr",
     "output_type": "stream",
     "text": [
      "No model was supplied, defaulted to dbmdz/bert-large-cased-finetuned-conll03-english and revision 4c53496 (https://huggingface.co/dbmdz/bert-large-cased-finetuned-conll03-english).\n",
      "Using a pipeline without specifying a model name and revision in production is not recommended.\n",
      "Some weights of the model checkpoint at dbmdz/bert-large-cased-finetuned-conll03-english were not used when initializing BertForTokenClassification: ['bert.pooler.dense.bias', 'bert.pooler.dense.weight']\n",
      "- This IS expected if you are initializing BertForTokenClassification from the checkpoint of a model trained on another task or with another architecture (e.g. initializing a BertForSequenceClassification model from a BertForPreTraining model).\n",
      "- This IS NOT expected if you are initializing BertForTokenClassification from the checkpoint of a model that you expect to be exactly identical (initializing a BertForSequenceClassification model from a BertForSequenceClassification model).\n",
      "Device set to use cuda:0\n"
     ]
    },
    {
     "name": "stdout",
     "output_type": "stream",
     "text": [
      "[{'entity_group': 'PER', 'score': np.float32(0.9973337), 'word': 'Yashwanth Kumar', 'start': 11, 'end': 26}]\n"
     ]
    }
   ],
   "source": [
    "from transformers import pipeline\n",
    "\n",
    "ner = pipeline(\"ner\", grouped_entities = True)\n",
    "entities  = ner('My name is Yashwanth Kumar')\n",
    "print(entities)"
   ]
  },
  {
   "cell_type": "markdown",
   "metadata": {
    "id": "5e8qSdxsAlcb"
   },
   "source": [
    "**Sentiment Analysis using Gradio**"
   ]
  },
  {
   "cell_type": "code",
   "execution_count": 6,
   "metadata": {
    "colab": {
     "base_uri": "https://localhost:8080/"
    },
    "executionInfo": {
     "elapsed": 8215,
     "status": "ok",
     "timestamp": 1757933665283,
     "user": {
      "displayName": "Yashwanth Kumar",
      "userId": "04073106945765763472"
     },
     "user_tz": -330
    },
    "id": "W8sOybs--o73",
    "outputId": "1c3b4c1a-5de9-4244-a737-5c16cd2c335f"
   },
   "outputs": [
    {
     "name": "stdout",
     "output_type": "stream",
     "text": [
      "Requirement already satisfied: transformers in /usr/local/lib/python3.12/dist-packages (4.56.1)\n",
      "Requirement already satisfied: datasets in /usr/local/lib/python3.12/dist-packages (4.0.0)\n",
      "Requirement already satisfied: filelock in /usr/local/lib/python3.12/dist-packages (from transformers) (3.19.1)\n",
      "Requirement already satisfied: huggingface-hub<1.0,>=0.34.0 in /usr/local/lib/python3.12/dist-packages (from transformers) (0.34.4)\n",
      "Requirement already satisfied: numpy>=1.17 in /usr/local/lib/python3.12/dist-packages (from transformers) (2.0.2)\n",
      "Requirement already satisfied: packaging>=20.0 in /usr/local/lib/python3.12/dist-packages (from transformers) (25.0)\n",
      "Requirement already satisfied: pyyaml>=5.1 in /usr/local/lib/python3.12/dist-packages (from transformers) (6.0.2)\n",
      "Requirement already satisfied: regex!=2019.12.17 in /usr/local/lib/python3.12/dist-packages (from transformers) (2024.11.6)\n",
      "Requirement already satisfied: requests in /usr/local/lib/python3.12/dist-packages (from transformers) (2.32.4)\n",
      "Requirement already satisfied: tokenizers<=0.23.0,>=0.22.0 in /usr/local/lib/python3.12/dist-packages (from transformers) (0.22.0)\n",
      "Requirement already satisfied: safetensors>=0.4.3 in /usr/local/lib/python3.12/dist-packages (from transformers) (0.6.2)\n",
      "Requirement already satisfied: tqdm>=4.27 in /usr/local/lib/python3.12/dist-packages (from transformers) (4.67.1)\n",
      "Requirement already satisfied: pyarrow>=15.0.0 in /usr/local/lib/python3.12/dist-packages (from datasets) (18.1.0)\n",
      "Requirement already satisfied: dill<0.3.9,>=0.3.0 in /usr/local/lib/python3.12/dist-packages (from datasets) (0.3.8)\n",
      "Requirement already satisfied: pandas in /usr/local/lib/python3.12/dist-packages (from datasets) (2.2.2)\n",
      "Requirement already satisfied: xxhash in /usr/local/lib/python3.12/dist-packages (from datasets) (3.5.0)\n",
      "Requirement already satisfied: multiprocess<0.70.17 in /usr/local/lib/python3.12/dist-packages (from datasets) (0.70.16)\n",
      "Requirement already satisfied: fsspec<=2025.3.0,>=2023.1.0 in /usr/local/lib/python3.12/dist-packages (from fsspec[http]<=2025.3.0,>=2023.1.0->datasets) (2025.3.0)\n",
      "Requirement already satisfied: aiohttp!=4.0.0a0,!=4.0.0a1 in /usr/local/lib/python3.12/dist-packages (from fsspec[http]<=2025.3.0,>=2023.1.0->datasets) (3.12.15)\n",
      "Requirement already satisfied: typing-extensions>=3.7.4.3 in /usr/local/lib/python3.12/dist-packages (from huggingface-hub<1.0,>=0.34.0->transformers) (4.15.0)\n",
      "Requirement already satisfied: hf-xet<2.0.0,>=1.1.3 in /usr/local/lib/python3.12/dist-packages (from huggingface-hub<1.0,>=0.34.0->transformers) (1.1.9)\n",
      "Requirement already satisfied: charset_normalizer<4,>=2 in /usr/local/lib/python3.12/dist-packages (from requests->transformers) (3.4.3)\n",
      "Requirement already satisfied: idna<4,>=2.5 in /usr/local/lib/python3.12/dist-packages (from requests->transformers) (3.10)\n",
      "Requirement already satisfied: urllib3<3,>=1.21.1 in /usr/local/lib/python3.12/dist-packages (from requests->transformers) (2.5.0)\n",
      "Requirement already satisfied: certifi>=2017.4.17 in /usr/local/lib/python3.12/dist-packages (from requests->transformers) (2025.8.3)\n",
      "Requirement already satisfied: python-dateutil>=2.8.2 in /usr/local/lib/python3.12/dist-packages (from pandas->datasets) (2.9.0.post0)\n",
      "Requirement already satisfied: pytz>=2020.1 in /usr/local/lib/python3.12/dist-packages (from pandas->datasets) (2025.2)\n",
      "Requirement already satisfied: tzdata>=2022.7 in /usr/local/lib/python3.12/dist-packages (from pandas->datasets) (2025.2)\n",
      "Requirement already satisfied: aiohappyeyeballs>=2.5.0 in /usr/local/lib/python3.12/dist-packages (from aiohttp!=4.0.0a0,!=4.0.0a1->fsspec[http]<=2025.3.0,>=2023.1.0->datasets) (2.6.1)\n",
      "Requirement already satisfied: aiosignal>=1.4.0 in /usr/local/lib/python3.12/dist-packages (from aiohttp!=4.0.0a0,!=4.0.0a1->fsspec[http]<=2025.3.0,>=2023.1.0->datasets) (1.4.0)\n",
      "Requirement already satisfied: attrs>=17.3.0 in /usr/local/lib/python3.12/dist-packages (from aiohttp!=4.0.0a0,!=4.0.0a1->fsspec[http]<=2025.3.0,>=2023.1.0->datasets) (25.3.0)\n",
      "Requirement already satisfied: frozenlist>=1.1.1 in /usr/local/lib/python3.12/dist-packages (from aiohttp!=4.0.0a0,!=4.0.0a1->fsspec[http]<=2025.3.0,>=2023.1.0->datasets) (1.7.0)\n",
      "Requirement already satisfied: multidict<7.0,>=4.5 in /usr/local/lib/python3.12/dist-packages (from aiohttp!=4.0.0a0,!=4.0.0a1->fsspec[http]<=2025.3.0,>=2023.1.0->datasets) (6.6.4)\n",
      "Requirement already satisfied: propcache>=0.2.0 in /usr/local/lib/python3.12/dist-packages (from aiohttp!=4.0.0a0,!=4.0.0a1->fsspec[http]<=2025.3.0,>=2023.1.0->datasets) (0.3.2)\n",
      "Requirement already satisfied: yarl<2.0,>=1.17.0 in /usr/local/lib/python3.12/dist-packages (from aiohttp!=4.0.0a0,!=4.0.0a1->fsspec[http]<=2025.3.0,>=2023.1.0->datasets) (1.20.1)\n",
      "Requirement already satisfied: six>=1.5 in /usr/local/lib/python3.12/dist-packages (from python-dateutil>=2.8.2->pandas->datasets) (1.17.0)\n"
     ]
    }
   ],
   "source": [
    "!pip install transformers datasets"
   ]
  },
  {
   "cell_type": "code",
   "execution_count": 7,
   "metadata": {
    "colab": {
     "base_uri": "https://localhost:8080/",
     "height": 234,
     "referenced_widgets": [
      "b039b8312a844019aa38b39e99bfc38e",
      "02580caac3804c6eb0064690e47524dd",
      "d7bd65477ef741b68c2c4b4ae689f569",
      "feb28e73837849c4872a6e10aa573517",
      "e3330c4fbba54c00830534e036dfc310",
      "3112dd57a9e146ac8fa25993ef432333",
      "0d36ed325ad34ba6a51a986ce66f40e9",
      "70bfee94a2344c33b8b208d7ba9373a8",
      "8f2dd998ca854ee2874e477069faae62",
      "f8ccb3d92ca546939148d47bddd63ad3",
      "a308310a2db843199044785e3e0b9045",
      "3e91abe8b78c4f929a03d99a496d90a4",
      "b69b7d6ea75e43cab9f05fe05541ea15",
      "7bd714506ab64ccba3254f73f4d75e6e",
      "e1d64ebd4d4142f4a8e7c8ecadeaca91",
      "6d7935e506bb46c691f00398557ea5fb",
      "cedec67e4cd945e694bd6b5b06ab3407",
      "a2dff5811ffb490ca449fa7a6fef4a46",
      "7129117021be4a378b6bc3301b124bf4",
      "17371ed3e98c4a049228ab99938fecdd",
      "f5e0281d086c4056b840eac53737b156",
      "2889040dde5d42dc8091da21d9756cd1",
      "6cd7b6dc2d3b4cb7941fdd3689579d3e",
      "51a89c7df4eb44ea9f97c6ffcaa950d1",
      "fe59252043154a51ac063b6ee7c1ce29",
      "301a3a9c3af44f369595edfb6c5a4458",
      "f43fa5a2ad974b2b8ce03e2ab2a7362a",
      "f7b6bf5c769f444f86e8ceeb3af3bcfe",
      "6f4a98992cb84464a62bfdbac655eadb",
      "ba677ebbeaa2447cbbd56018f7dfab36",
      "9e4d8526409c47d4876b2cc7c18ef857",
      "b13e1af5d28d45b28746152f8c03fcf7",
      "956194b01a8144e293872d735bf5f44a",
      "8e4c960ce25443ecbcc33439abe3108f",
      "933ba00bed3a477a948fc21d813a3b92",
      "7c100f0d758149e4816cd1f4b489f721",
      "5194c6e20282432d963dc119e91b7079",
      "421c61ef4bc54607b82b4246de573b91",
      "2366b2ae83144857b1f4ba53d37d7e36",
      "abcaeeded69f4f8ab0b83e3e8e79c63c",
      "62aa3fad969348b89da23cc1477ed4d4",
      "0fc64a3afd9b4242b63398ee97ea6e61",
      "8221f51e39794992bf4eb2d6bee174bb",
      "fc440930f7294d6ca3277ee959110df6"
     ]
    },
    "executionInfo": {
     "elapsed": 4623,
     "status": "ok",
     "timestamp": 1757933681651,
     "user": {
      "displayName": "Yashwanth Kumar",
      "userId": "04073106945765763472"
     },
     "user_tz": -330
    },
    "id": "QMDQa9TO-o_M",
    "outputId": "7deccb5a-573a-4f09-d7d9-de654f43e248"
   },
   "outputs": [
    {
     "name": "stderr",
     "output_type": "stream",
     "text": [
      "No model was supplied, defaulted to distilbert/distilbert-base-uncased-finetuned-sst-2-english and revision 714eb0f (https://huggingface.co/distilbert/distilbert-base-uncased-finetuned-sst-2-english).\n",
      "Using a pipeline without specifying a model name and revision in production is not recommended.\n"
     ]
    },
    {
     "data": {
      "application/vnd.jupyter.widget-view+json": {
       "model_id": "b039b8312a844019aa38b39e99bfc38e",
       "version_major": 2,
       "version_minor": 0
      },
      "text/plain": [
       "config.json:   0%|          | 0.00/629 [00:00<?, ?B/s]"
      ]
     },
     "metadata": {},
     "output_type": "display_data"
    },
    {
     "data": {
      "application/vnd.jupyter.widget-view+json": {
       "model_id": "3e91abe8b78c4f929a03d99a496d90a4",
       "version_major": 2,
       "version_minor": 0
      },
      "text/plain": [
       "model.safetensors:   0%|          | 0.00/268M [00:00<?, ?B/s]"
      ]
     },
     "metadata": {},
     "output_type": "display_data"
    },
    {
     "data": {
      "application/vnd.jupyter.widget-view+json": {
       "model_id": "6cd7b6dc2d3b4cb7941fdd3689579d3e",
       "version_major": 2,
       "version_minor": 0
      },
      "text/plain": [
       "tokenizer_config.json:   0%|          | 0.00/48.0 [00:00<?, ?B/s]"
      ]
     },
     "metadata": {},
     "output_type": "display_data"
    },
    {
     "data": {
      "application/vnd.jupyter.widget-view+json": {
       "model_id": "8e4c960ce25443ecbcc33439abe3108f",
       "version_major": 2,
       "version_minor": 0
      },
      "text/plain": [
       "vocab.txt: 0.00B [00:00, ?B/s]"
      ]
     },
     "metadata": {},
     "output_type": "display_data"
    },
    {
     "name": "stderr",
     "output_type": "stream",
     "text": [
      "Device set to use cuda:0\n"
     ]
    },
    {
     "name": "stdout",
     "output_type": "stream",
     "text": [
      "[{'label': 'POSITIVE', 'score': 0.9995531439781189}]\n"
     ]
    }
   ],
   "source": [
    "from transformers import pipeline\n",
    "\n",
    "classifier = pipeline('sentiment-analysis')\n",
    "result = classifier('[I love Hugging Face library very much]')\n",
    "print(result)"
   ]
  },
  {
   "cell_type": "code",
   "execution_count": 8,
   "metadata": {
    "colab": {
     "base_uri": "https://localhost:8080/"
    },
    "executionInfo": {
     "elapsed": 652,
     "status": "ok",
     "timestamp": 1757933695795,
     "user": {
      "displayName": "Yashwanth Kumar",
      "userId": "04073106945765763472"
     },
     "user_tz": -330
    },
    "id": "Ku9NScfU-pBn",
    "outputId": "230141c0-77d4-46a2-bfc4-4b3a47f538e8"
   },
   "outputs": [
    {
     "name": "stderr",
     "output_type": "stream",
     "text": [
      "No model was supplied, defaulted to distilbert/distilbert-base-uncased-finetuned-sst-2-english and revision 714eb0f (https://huggingface.co/distilbert/distilbert-base-uncased-finetuned-sst-2-english).\n",
      "Using a pipeline without specifying a model name and revision in production is not recommended.\n",
      "Device set to use cuda:0\n"
     ]
    },
    {
     "name": "stdout",
     "output_type": "stream",
     "text": [
      "[{'label': 'NEGATIVE', 'score': 0.9995667338371277}]\n"
     ]
    }
   ],
   "source": [
    "from transformers import pipeline\n",
    "\n",
    "classifier = pipeline('sentiment-analysis')\n",
    "result = classifier('[This road has too many potholes]')\n",
    "print(result)"
   ]
  },
  {
   "cell_type": "code",
   "execution_count": 9,
   "metadata": {
    "colab": {
     "base_uri": "https://localhost:8080/"
    },
    "executionInfo": {
     "elapsed": 434,
     "status": "ok",
     "timestamp": 1757933752109,
     "user": {
      "displayName": "Yashwanth Kumar",
      "userId": "04073106945765763472"
     },
     "user_tz": -330
    },
    "id": "M8iapbwC-pFA",
    "outputId": "ef3e0c7c-87ec-4692-9015-bdbc6071c205"
   },
   "outputs": [
    {
     "name": "stderr",
     "output_type": "stream",
     "text": [
      "No model was supplied, defaulted to distilbert/distilbert-base-uncased-finetuned-sst-2-english and revision 714eb0f (https://huggingface.co/distilbert/distilbert-base-uncased-finetuned-sst-2-english).\n",
      "Using a pipeline without specifying a model name and revision in production is not recommended.\n",
      "Device set to use cuda:0\n"
     ]
    },
    {
     "name": "stdout",
     "output_type": "stream",
     "text": [
      "[{'label': 'NEGATIVE', 'score': 0.9972487092018127}]\n"
     ]
    }
   ],
   "source": [
    "from transformers import pipeline\n",
    "\n",
    "classifier = pipeline('sentiment-analysis')\n",
    "result = classifier('[The movie is good but the climax is not good]')\n",
    "print(result)"
   ]
  },
  {
   "cell_type": "code",
   "execution_count": 10,
   "metadata": {
    "colab": {
     "base_uri": "https://localhost:8080/"
    },
    "executionInfo": {
     "elapsed": 3981,
     "status": "ok",
     "timestamp": 1757933773384,
     "user": {
      "displayName": "Yashwanth Kumar",
      "userId": "04073106945765763472"
     },
     "user_tz": -330
    },
    "id": "Kc1gA9KH-pHY",
    "outputId": "1b5be22e-f508-4c6b-9590-48472905d23c"
   },
   "outputs": [
    {
     "name": "stdout",
     "output_type": "stream",
     "text": [
      "Requirement already satisfied: gradio in /usr/local/lib/python3.12/dist-packages (5.44.1)\n",
      "Requirement already satisfied: aiofiles<25.0,>=22.0 in /usr/local/lib/python3.12/dist-packages (from gradio) (24.1.0)\n",
      "Requirement already satisfied: anyio<5.0,>=3.0 in /usr/local/lib/python3.12/dist-packages (from gradio) (4.10.0)\n",
      "Requirement already satisfied: brotli>=1.1.0 in /usr/local/lib/python3.12/dist-packages (from gradio) (1.1.0)\n",
      "Requirement already satisfied: fastapi<1.0,>=0.115.2 in /usr/local/lib/python3.12/dist-packages (from gradio) (0.116.1)\n",
      "Requirement already satisfied: ffmpy in /usr/local/lib/python3.12/dist-packages (from gradio) (0.6.1)\n",
      "Requirement already satisfied: gradio-client==1.12.1 in /usr/local/lib/python3.12/dist-packages (from gradio) (1.12.1)\n",
      "Requirement already satisfied: groovy~=0.1 in /usr/local/lib/python3.12/dist-packages (from gradio) (0.1.2)\n",
      "Requirement already satisfied: httpx<1.0,>=0.24.1 in /usr/local/lib/python3.12/dist-packages (from gradio) (0.28.1)\n",
      "Requirement already satisfied: huggingface-hub<1.0,>=0.33.5 in /usr/local/lib/python3.12/dist-packages (from gradio) (0.34.4)\n",
      "Requirement already satisfied: jinja2<4.0 in /usr/local/lib/python3.12/dist-packages (from gradio) (3.1.6)\n",
      "Requirement already satisfied: markupsafe<4.0,>=2.0 in /usr/local/lib/python3.12/dist-packages (from gradio) (3.0.2)\n",
      "Requirement already satisfied: numpy<3.0,>=1.0 in /usr/local/lib/python3.12/dist-packages (from gradio) (2.0.2)\n",
      "Requirement already satisfied: orjson~=3.0 in /usr/local/lib/python3.12/dist-packages (from gradio) (3.11.3)\n",
      "Requirement already satisfied: packaging in /usr/local/lib/python3.12/dist-packages (from gradio) (25.0)\n",
      "Requirement already satisfied: pandas<3.0,>=1.0 in /usr/local/lib/python3.12/dist-packages (from gradio) (2.2.2)\n",
      "Requirement already satisfied: pillow<12.0,>=8.0 in /usr/local/lib/python3.12/dist-packages (from gradio) (11.3.0)\n",
      "Requirement already satisfied: pydantic<2.12,>=2.0 in /usr/local/lib/python3.12/dist-packages (from gradio) (2.11.7)\n",
      "Requirement already satisfied: pydub in /usr/local/lib/python3.12/dist-packages (from gradio) (0.25.1)\n",
      "Requirement already satisfied: python-multipart>=0.0.18 in /usr/local/lib/python3.12/dist-packages (from gradio) (0.0.20)\n",
      "Requirement already satisfied: pyyaml<7.0,>=5.0 in /usr/local/lib/python3.12/dist-packages (from gradio) (6.0.2)\n",
      "Requirement already satisfied: ruff>=0.9.3 in /usr/local/lib/python3.12/dist-packages (from gradio) (0.12.12)\n",
      "Requirement already satisfied: safehttpx<0.2.0,>=0.1.6 in /usr/local/lib/python3.12/dist-packages (from gradio) (0.1.6)\n",
      "Requirement already satisfied: semantic-version~=2.0 in /usr/local/lib/python3.12/dist-packages (from gradio) (2.10.0)\n",
      "Requirement already satisfied: starlette<1.0,>=0.40.0 in /usr/local/lib/python3.12/dist-packages (from gradio) (0.47.3)\n",
      "Requirement already satisfied: tomlkit<0.14.0,>=0.12.0 in /usr/local/lib/python3.12/dist-packages (from gradio) (0.13.3)\n",
      "Requirement already satisfied: typer<1.0,>=0.12 in /usr/local/lib/python3.12/dist-packages (from gradio) (0.17.3)\n",
      "Requirement already satisfied: typing-extensions~=4.0 in /usr/local/lib/python3.12/dist-packages (from gradio) (4.15.0)\n",
      "Requirement already satisfied: uvicorn>=0.14.0 in /usr/local/lib/python3.12/dist-packages (from gradio) (0.35.0)\n",
      "Requirement already satisfied: fsspec in /usr/local/lib/python3.12/dist-packages (from gradio-client==1.12.1->gradio) (2025.3.0)\n",
      "Requirement already satisfied: websockets<16.0,>=10.0 in /usr/local/lib/python3.12/dist-packages (from gradio-client==1.12.1->gradio) (15.0.1)\n",
      "Requirement already satisfied: idna>=2.8 in /usr/local/lib/python3.12/dist-packages (from anyio<5.0,>=3.0->gradio) (3.10)\n",
      "Requirement already satisfied: sniffio>=1.1 in /usr/local/lib/python3.12/dist-packages (from anyio<5.0,>=3.0->gradio) (1.3.1)\n",
      "Requirement already satisfied: certifi in /usr/local/lib/python3.12/dist-packages (from httpx<1.0,>=0.24.1->gradio) (2025.8.3)\n",
      "Requirement already satisfied: httpcore==1.* in /usr/local/lib/python3.12/dist-packages (from httpx<1.0,>=0.24.1->gradio) (1.0.9)\n",
      "Requirement already satisfied: h11>=0.16 in /usr/local/lib/python3.12/dist-packages (from httpcore==1.*->httpx<1.0,>=0.24.1->gradio) (0.16.0)\n",
      "Requirement already satisfied: filelock in /usr/local/lib/python3.12/dist-packages (from huggingface-hub<1.0,>=0.33.5->gradio) (3.19.1)\n",
      "Requirement already satisfied: requests in /usr/local/lib/python3.12/dist-packages (from huggingface-hub<1.0,>=0.33.5->gradio) (2.32.4)\n",
      "Requirement already satisfied: tqdm>=4.42.1 in /usr/local/lib/python3.12/dist-packages (from huggingface-hub<1.0,>=0.33.5->gradio) (4.67.1)\n",
      "Requirement already satisfied: hf-xet<2.0.0,>=1.1.3 in /usr/local/lib/python3.12/dist-packages (from huggingface-hub<1.0,>=0.33.5->gradio) (1.1.9)\n",
      "Requirement already satisfied: python-dateutil>=2.8.2 in /usr/local/lib/python3.12/dist-packages (from pandas<3.0,>=1.0->gradio) (2.9.0.post0)\n",
      "Requirement already satisfied: pytz>=2020.1 in /usr/local/lib/python3.12/dist-packages (from pandas<3.0,>=1.0->gradio) (2025.2)\n",
      "Requirement already satisfied: tzdata>=2022.7 in /usr/local/lib/python3.12/dist-packages (from pandas<3.0,>=1.0->gradio) (2025.2)\n",
      "Requirement already satisfied: annotated-types>=0.6.0 in /usr/local/lib/python3.12/dist-packages (from pydantic<2.12,>=2.0->gradio) (0.7.0)\n",
      "Requirement already satisfied: pydantic-core==2.33.2 in /usr/local/lib/python3.12/dist-packages (from pydantic<2.12,>=2.0->gradio) (2.33.2)\n",
      "Requirement already satisfied: typing-inspection>=0.4.0 in /usr/local/lib/python3.12/dist-packages (from pydantic<2.12,>=2.0->gradio) (0.4.1)\n",
      "Requirement already satisfied: click>=8.0.0 in /usr/local/lib/python3.12/dist-packages (from typer<1.0,>=0.12->gradio) (8.2.1)\n",
      "Requirement already satisfied: shellingham>=1.3.0 in /usr/local/lib/python3.12/dist-packages (from typer<1.0,>=0.12->gradio) (1.5.4)\n",
      "Requirement already satisfied: rich>=10.11.0 in /usr/local/lib/python3.12/dist-packages (from typer<1.0,>=0.12->gradio) (13.9.4)\n",
      "Requirement already satisfied: six>=1.5 in /usr/local/lib/python3.12/dist-packages (from python-dateutil>=2.8.2->pandas<3.0,>=1.0->gradio) (1.17.0)\n",
      "Requirement already satisfied: markdown-it-py>=2.2.0 in /usr/local/lib/python3.12/dist-packages (from rich>=10.11.0->typer<1.0,>=0.12->gradio) (4.0.0)\n",
      "Requirement already satisfied: pygments<3.0.0,>=2.13.0 in /usr/local/lib/python3.12/dist-packages (from rich>=10.11.0->typer<1.0,>=0.12->gradio) (2.19.2)\n",
      "Requirement already satisfied: charset_normalizer<4,>=2 in /usr/local/lib/python3.12/dist-packages (from requests->huggingface-hub<1.0,>=0.33.5->gradio) (3.4.3)\n",
      "Requirement already satisfied: urllib3<3,>=1.21.1 in /usr/local/lib/python3.12/dist-packages (from requests->huggingface-hub<1.0,>=0.33.5->gradio) (2.5.0)\n",
      "Requirement already satisfied: mdurl~=0.1 in /usr/local/lib/python3.12/dist-packages (from markdown-it-py>=2.2.0->rich>=10.11.0->typer<1.0,>=0.12->gradio) (0.1.2)\n"
     ]
    }
   ],
   "source": [
    "!pip install gradio"
   ]
  },
  {
   "cell_type": "code",
   "execution_count": 11,
   "metadata": {
    "colab": {
     "base_uri": "https://localhost:8080/",
     "height": 698
    },
    "executionInfo": {
     "elapsed": 17060,
     "status": "ok",
     "timestamp": 1757933805130,
     "user": {
      "displayName": "Yashwanth Kumar",
      "userId": "04073106945765763472"
     },
     "user_tz": -330
    },
    "id": "7z8sDMtL-pKw",
    "outputId": "d1f7f6dd-a20d-4d88-b214-9de4ad94a39c"
   },
   "outputs": [
    {
     "name": "stderr",
     "output_type": "stream",
     "text": [
      "No model was supplied, defaulted to distilbert/distilbert-base-uncased-finetuned-sst-2-english and revision 714eb0f (https://huggingface.co/distilbert/distilbert-base-uncased-finetuned-sst-2-english).\n",
      "Using a pipeline without specifying a model name and revision in production is not recommended.\n",
      "Device set to use cuda:0\n"
     ]
    },
    {
     "name": "stdout",
     "output_type": "stream",
     "text": [
      "It looks like you are running Gradio on a hosted Jupyter notebook, which requires `share=True`. Automatically setting `share=True` (you can turn this off by setting `share=False` in `launch()` explicitly).\n",
      "\n",
      "Colab notebook detected. To show errors in colab notebook, set debug=True in launch()\n",
      "* Running on public URL: https://b5e1d535348f9cde8a.gradio.live\n",
      "\n",
      "This share link expires in 1 week. For free permanent hosting and GPU upgrades, run `gradio deploy` from the terminal in the working directory to deploy to Hugging Face Spaces (https://huggingface.co/spaces)\n"
     ]
    },
    {
     "data": {
      "text/html": [
       "<div><iframe src=\"https://b5e1d535348f9cde8a.gradio.live\" width=\"100%\" height=\"500\" allow=\"autoplay; camera; microphone; clipboard-read; clipboard-write;\" frameborder=\"0\" allowfullscreen></iframe></div>"
      ],
      "text/plain": [
       "<IPython.core.display.HTML object>"
      ]
     },
     "metadata": {},
     "output_type": "display_data"
    },
    {
     "data": {
      "text/plain": []
     },
     "execution_count": 11,
     "metadata": {},
     "output_type": "execute_result"
    }
   ],
   "source": [
    "import gradio as gr\n",
    "\n",
    "from transformers import pipeline\n",
    "\n",
    "classifier = pipeline('sentiment-analysis')\n",
    "def analyze_sentiment(text):\n",
    "  return classifier(text)[0]['label']\n",
    "\n",
    "gr.Interface(fn = analyze_sentiment, inputs = 'text', outputs = 'text').launch()"
   ]
  },
  {
   "cell_type": "markdown",
   "metadata": {
    "id": "NyVDr9cyBUE-"
   },
   "source": [
    "**Text to Image Model using Diffusion Pipeline**\n"
   ]
  },
  {
   "cell_type": "code",
   "execution_count": 12,
   "metadata": {
    "colab": {
     "base_uri": "https://localhost:8080/",
     "height": 610,
     "referenced_widgets": [
      "ee3f6eb3623b473ba9915931eb3c9bc3",
      "572973fce03c4596be01586a0e3fc929",
      "e4e6656f4ace4ee8ab4747dec0b42690",
      "0954e247c9534b489ff38798e38b16ce",
      "d2b2087964944791b036c890ba38cec2",
      "afa4eb9f99e74f9989161e1a48a754f7",
      "8eb4bb4291e24d68b7a65b51fc7032cd",
      "75455ca5bd5a4ed88dba9403b3d4d900",
      "c960237ba6024a42bc69b810b4973a20",
      "3369156f276b48dda1707afc21759b33",
      "ca78dca082e74b0cabeb4c9e7c653b97",
      "7c3ba48db8de47049a170f67fdfc9b53",
      "598c124023814debbc7338b8a6116013",
      "08d97fc554bd449c9262ed61b1adf716",
      "08736c93931942b3b20f5cd29a25c621",
      "75e244b38eaf4f33b68213f89fed612b",
      "0171fe3810f7480c9b161e456300592f",
      "8c8fada8eb4f4f008a4d63cb991a56b7",
      "0aed6814b1a54ed1afc58e29b9d5557e",
      "8ea5b8e5b60a4ddda63ee798b3cb6b9f",
      "1a703ad35d8842078c45a6c25fb999d1",
      "a5dc79e379d8419ca467dc44b63d47a7",
      "3c38876ca0cc47bba4f7d30c743002f6",
      "138abf57d50b4c6a9ee4339dccfeed87",
      "04844e71dab3400d89995b5194bfaa8e",
      "faec407d665849fcb5c750dc4689c949",
      "8554136e632f4bceb469320bf710bc4b",
      "43e34ac6162147119ba45ee9e55e3bbe",
      "421f168bead34fd69b21d26837d944e7",
      "cb88e699ba6b44fc9bf4d546aaad822a",
      "9d00f60850ae4984ace8c2d8d2fae6c4",
      "2e74c9001d4846c3bfeac11aa77cbd61",
      "53cb4f6b4ddd434b8b7e206c41a8e4e8",
      "9f6cdff8131442cf831087b0ae519554",
      "4f2720c5e1974b2a9409094378ebb0ee",
      "08c241021a7b41c7824fc4aa9f0b77f7",
      "3587280a7aa24e76b2e965ddf3ac8955",
      "e02e3fb60610464c9729decd745ef44c",
      "9711b26172b94ca89ff349355888cd07",
      "1dc90a4ad1c84f95ade88a8bcc62dfc6",
      "d3c6d0ff57034749aad9743d3c9ffdf4",
      "e8258ef6ddb043cdbf405d515f9c2cb0",
      "790dc9518bf9476cb848f4470cbc959d",
      "f33cc7cae56743d59d7fd4b1ce2b809e",
      "14d27051ea0b4644a021fe3a90b36c71",
      "126dc008a335488d89570d25aac09f3d",
      "976c2e9f920a4ccd82a81c8bd3bff9e0",
      "28daaf486d9841079b22b59b1d92323f",
      "2b0d9ba8ecb34bdbb86f63177413bb87",
      "bf37d82daaec44989d966155a73b69a3",
      "91fab6d8909c48508e5b66621626bdc1",
      "4624a33de6c242d7a2731c1ef938253f",
      "92c967c6410545789c6ca0e6f7a9c6d6",
      "b1162b74d69e4bdd8b886c098a3f94dc",
      "097b242c5fd7482fae0d2a5f64fb2607",
      "a260058a1e3d4705b124ed8fdefcf97a",
      "f46187f44ebc4132ac9a0fec56b74fa1",
      "2fbd24b97e5a4f30a89636531a567aa3",
      "bcbb7b5c786849088f3eb0264cc6b45d",
      "cea31559b78f407a9fa352b74c3112fe",
      "8ee56ca2efd74a4d8251daaeb8d8be8d",
      "6439d2d0e68744fa80577115426f7289",
      "cac6869aea63424290a912bcab69776e",
      "8967ef1d4d3f43ac8c4aec7adb389370",
      "7fcb865364ee4c4aac07798b7e76726d",
      "2b6c52702eb34c54ba88038db0b6932c",
      "bbfc9bd5f2954ccdadc00367208fec31",
      "10c453d50e7f44f1829e79f0f6e6c744",
      "ff3362f88e7e4077919ab61d69922c5d",
      "4e0ccd0aaf074b148e6d8ab0ee4bef9d",
      "eec8b21fbee14b7c81e648207cb90a17",
      "db8f413868f1455c820fa540a83ce741",
      "2ec8c8b296f44462b46acaf29ec20552",
      "8d95c6f7d39f4b9491f3c42fa7ffa256",
      "d30181dfff954ce28519901033b7cde2",
      "eb2b4eebe42848079c45715211fd97bb",
      "d28b4abb68544289a23d6196fd7df743",
      "92ef354ec2e848d69f451571b4616b73",
      "655bae9c2da241298c0473ece80fa15d",
      "cb5cc5592566440bbc536168ba6b4f44",
      "ee9e0e7a75134a0792beb9c592021488",
      "a3aff2f2101a4b0184fc5a8b06e922a3",
      "ee8bbad72c0e496baece6695c9893d96",
      "c4a50ae56a28422494170b3a7e7c7230",
      "ca4347dfa4eb4a2eaacabc5b8e21e902",
      "868e2338f5e64d92ab5c474c910a6923",
      "1f464efa7447498aa0484898bb874b2a",
      "246f886f5d2c4176aadf02157c08f05d",
      "f2517c2648e1459893b649d2b41700e9",
      "f409a6e056034e95973d21daedf892ef",
      "93bc35765cab45d5b6d339e8e2745575",
      "fb00b331187949efa8777739b54051d1",
      "5dff59eae54c49bdb32439ce92a92448",
      "2d17b626d0e54dc0b83604b2d623c92e",
      "d6c43102a3804c519d2d4c2acf159a40",
      "2565f700d02d453dbd5d60a2b06e2e45",
      "04066dfa6db2414ab4869c626feef9ec",
      "45632ef0091a4bf28244bf15ab9a2405",
      "b85a100860e54a619733ff4128eeb9a6",
      "6c593d6baf2c49f1a1ff0f0acb59cf2b",
      "8b2d8d42423340879e89379704927eea",
      "51c4199a3afc4c45b5066155298426e7",
      "060c3938efcb41d29490c9f29608db5e",
      "ebc46d881d7b4654b0f9c49c66a917d7",
      "b85db01117984a34a9d2847546f51708",
      "55ad14e8358f451b98576edd9d20cc4c",
      "3e7f2ff299ad4c81b0585a205f58dfd6",
      "4429f8dd40434b299fe6ad720178f2e0",
      "b4363e8f78a14e68a2bb336e75bc32ba",
      "abe6174a7d664a62be9f4b40d87d7186",
      "148aed9447e64eafb1cd0bbd96d3498f",
      "0c314d7c6c134969b1ddc7dc0b6fb4bd",
      "54ecf36467524a2ab221f9582d3a1c81",
      "9d0702b2f66a4e95a40b2acbf3a59764",
      "97de1ee0401e4400b27c34e52bd1526c",
      "a23ea406382e46f1a2743bfeb7bb95e3",
      "e1b51968faad41029349ecfed4542cc8",
      "94ee9bcc9a4d436bb2ae420c33d4a631",
      "86e5ff513fac43a6b6b1cf884e73632e",
      "f64653a3cdbb44bfb1cf8715c9077627",
      "9ead18b437624a7e85aad87098613384",
      "2c1f103e1166465dbc2db706aa83ded6",
      "d6e1d980a172497a99bcc66405f00775",
      "7d64e91bba8c48bd8326f90992981cbc",
      "f6bfab525d2346388efa7df23bd0ced8",
      "51bdfa58c99a4d2bbc32e59e8f9e8aaf",
      "cfa20a5c72e84326a4e58267733b71e4",
      "144d0d6952764fb1aebec50ced86ddef",
      "224779b3f0cc4ee295e04f9f3df24678",
      "d1fb717eb35f48479290a0ee0340a343",
      "446b6f0f4aa74c078b40ddbd3dd9d2f0",
      "e0112e3b52db4439bdd71a1ea3599e48",
      "b1c132a2771b4bb88abb1879187b0062",
      "f4bda6b5feec43c18a3f36620109649d",
      "518cd7b5a7d146b7a02d67eca228249d",
      "9af9bc548e104a0f9563c5fae70504ee",
      "f72cca2ebdba424db3661f45ff773ef8",
      "342c851480a8453e889a6d299ffa3f2d",
      "30a602bc6e7e41f8a6a6abeb4c402f02",
      "a82e48b9dd254e5e9b89dcfd09dcb644",
      "0f5f8ddb7ab24a429e3692d026ece992",
      "6f431fc65b01425d814207f82f32bf2f",
      "bdea63073de6467da74e29f405f4b2e8",
      "94bcda71d6a644e68844dc754bce8867",
      "2dee9dd256824b3c9872ab5275cb2621",
      "bbfbb63d3538412687e8df214a5fabd4",
      "889a70e9fe5443cbb176fbf67b3263ed",
      "08272585ed7247dcaee227c429714ca2",
      "5b0d3b8b14ec49ab932daa7992b10fb3",
      "ec326d6447cb4e8da9b993ca9bdbf0e8",
      "412944a9cf044ff1b842e72926e0384e",
      "848de0dc17094721ac5f3b703cce4448",
      "2ff9452f63b9494983817110542c9900",
      "86680809372747e5bd80dcf35454c790",
      "e521dc357475493ebf66dfa584f4c440",
      "b9d03a46b2df4d3282ea188c1f3c1613",
      "5d44d511cd98453ebc8de90622bed720",
      "75c1b73e5217490295791807eca6abc1",
      "effeb5b0b6b84d94ae8fa61e19eaa988",
      "ccb1573b335c4513befb705449d529ae",
      "0c4db2377d6c475ab5348c696f5cb6d8",
      "df058d2676f64baaa85acd11075c0058",
      "e44b4e278e944286bacc68839ef9cd2a",
      "c173d902f5c64d09a29ca23401da49e8",
      "efefc976e08c4f27bb945c83176b06c2",
      "1520563b024743febe18d25d33b13782",
      "092ce799f32c4809a9d0dd662a0b07c0",
      "a1e8b5143d1e4082877767d1a1e41cbf",
      "3590676cc18f46f28d78a7414f2a1309",
      "d34e76240a0646128e52a62d28f9395b",
      "a0c104692fc84a9881d7314d9d47aa95",
      "eaf40ee14a7f4436b09f42792ed80079",
      "118843d5cdab49c4b4601397350b80d5",
      "3e737b53419c44dc971a7b110e3e379c",
      "481b0e53b03e46db986a99c3cc613c6d",
      "74c0a0181ce348d1b1a4cead41d35583",
      "71337b65c99c4368a4ec461d65c630dd",
      "5a1f9749fda044199c6e08f286bcd556",
      "798c6fa2543e4adbaa431c3c91ea0d69",
      "de6890eaf462490189c2b1714db511c9",
      "e270dc587a40416c81f825b03030569d",
      "7aee69eaa47348de978c5f550a2bcbe6",
      "0faf39f3baf34044ae3891e839ddf696",
      "df0b3f82049949a5acdb03c6d95b59f8",
      "396e560f9878439aa0bcfc2408aaecef",
      "2421bf6406944d91b769f9f603ed0c2d",
      "ab1bcd176fbb462fa3068288b05b1edc",
      "da31126a05df4ca2b5b377bc189c827b",
      "b89a9dacdc654be085f22c3c4c693548",
      "3e537cec938c41a69b994cafed69ca0b",
      "93acf71b66ca495ca4b44a88565e1f55",
      "67e66080f28c48838faf333409ea1d63",
      "0059701293004c959ebd170a8418a242",
      "3b159cd8f9ff4813907aaddb75870de6",
      "d92ec088feaf48e19a7656877e6f39b2",
      "f7eb49855d064ff0b8c916c669f9a6c0",
      "f96af216d47d4555b4c0b58bd1ab2a60",
      "43fdf3a99b5d460892c57df132451443"
     ]
    },
    "executionInfo": {
     "elapsed": 274661,
     "status": "ok",
     "timestamp": 1757934263148,
     "user": {
      "displayName": "Yashwanth Kumar",
      "userId": "04073106945765763472"
     },
     "user_tz": -330
    },
    "id": "oi77f0q9-pNH",
    "outputId": "da8ad15e-58d5-4fe9-8880-a3e0b3d47081"
   },
   "outputs": [
    {
     "data": {
      "application/vnd.jupyter.widget-view+json": {
       "model_id": "ee3f6eb3623b473ba9915931eb3c9bc3",
       "version_major": 2,
       "version_minor": 0
      },
      "text/plain": [
       "model_index.json:   0%|          | 0.00/541 [00:00<?, ?B/s]"
      ]
     },
     "metadata": {},
     "output_type": "display_data"
    },
    {
     "data": {
      "application/vnd.jupyter.widget-view+json": {
       "model_id": "7c3ba48db8de47049a170f67fdfc9b53",
       "version_major": 2,
       "version_minor": 0
      },
      "text/plain": [
       "Fetching 15 files:   0%|          | 0/15 [00:00<?, ?it/s]"
      ]
     },
     "metadata": {},
     "output_type": "display_data"
    },
    {
     "data": {
      "application/vnd.jupyter.widget-view+json": {
       "model_id": "3c38876ca0cc47bba4f7d30c743002f6",
       "version_major": 2,
       "version_minor": 0
      },
      "text/plain": [
       "config.json: 0.00B [00:00, ?B/s]"
      ]
     },
     "metadata": {},
     "output_type": "display_data"
    },
    {
     "data": {
      "application/vnd.jupyter.widget-view+json": {
       "model_id": "9f6cdff8131442cf831087b0ae519554",
       "version_major": 2,
       "version_minor": 0
      },
      "text/plain": [
       "scheduler_config.json:   0%|          | 0.00/308 [00:00<?, ?B/s]"
      ]
     },
     "metadata": {},
     "output_type": "display_data"
    },
    {
     "data": {
      "application/vnd.jupyter.widget-view+json": {
       "model_id": "14d27051ea0b4644a021fe3a90b36c71",
       "version_major": 2,
       "version_minor": 0
      },
      "text/plain": [
       "special_tokens_map.json:   0%|          | 0.00/472 [00:00<?, ?B/s]"
      ]
     },
     "metadata": {},
     "output_type": "display_data"
    },
    {
     "data": {
      "application/vnd.jupyter.widget-view+json": {
       "model_id": "a260058a1e3d4705b124ed8fdefcf97a",
       "version_major": 2,
       "version_minor": 0
      },
      "text/plain": [
       "merges.txt: 0.00B [00:00, ?B/s]"
      ]
     },
     "metadata": {},
     "output_type": "display_data"
    },
    {
     "data": {
      "application/vnd.jupyter.widget-view+json": {
       "model_id": "bbfc9bd5f2954ccdadc00367208fec31",
       "version_major": 2,
       "version_minor": 0
      },
      "text/plain": [
       "preprocessor_config.json:   0%|          | 0.00/342 [00:00<?, ?B/s]"
      ]
     },
     "metadata": {},
     "output_type": "display_data"
    },
    {
     "data": {
      "application/vnd.jupyter.widget-view+json": {
       "model_id": "92ef354ec2e848d69f451571b4616b73",
       "version_major": 2,
       "version_minor": 0
      },
      "text/plain": [
       "config.json:   0%|          | 0.00/617 [00:00<?, ?B/s]"
      ]
     },
     "metadata": {},
     "output_type": "display_data"
    },
    {
     "data": {
      "application/vnd.jupyter.widget-view+json": {
       "model_id": "f2517c2648e1459893b649d2b41700e9",
       "version_major": 2,
       "version_minor": 0
      },
      "text/plain": [
       "text_encoder/model.safetensors:   0%|          | 0.00/492M [00:00<?, ?B/s]"
      ]
     },
     "metadata": {},
     "output_type": "display_data"
    },
    {
     "data": {
      "application/vnd.jupyter.widget-view+json": {
       "model_id": "6c593d6baf2c49f1a1ff0f0acb59cf2b",
       "version_major": 2,
       "version_minor": 0
      },
      "text/plain": [
       "safety_checker/model.safetensors:   0%|          | 0.00/1.22G [00:00<?, ?B/s]"
      ]
     },
     "metadata": {},
     "output_type": "display_data"
    },
    {
     "data": {
      "application/vnd.jupyter.widget-view+json": {
       "model_id": "148aed9447e64eafb1cd0bbd96d3498f",
       "version_major": 2,
       "version_minor": 0
      },
      "text/plain": [
       "tokenizer_config.json:   0%|          | 0.00/806 [00:00<?, ?B/s]"
      ]
     },
     "metadata": {},
     "output_type": "display_data"
    },
    {
     "data": {
      "application/vnd.jupyter.widget-view+json": {
       "model_id": "2c1f103e1166465dbc2db706aa83ded6",
       "version_major": 2,
       "version_minor": 0
      },
      "text/plain": [
       "config.json:   0%|          | 0.00/547 [00:00<?, ?B/s]"
      ]
     },
     "metadata": {},
     "output_type": "display_data"
    },
    {
     "data": {
      "application/vnd.jupyter.widget-view+json": {
       "model_id": "b1c132a2771b4bb88abb1879187b0062",
       "version_major": 2,
       "version_minor": 0
      },
      "text/plain": [
       "config.json:   0%|          | 0.00/743 [00:00<?, ?B/s]"
      ]
     },
     "metadata": {},
     "output_type": "display_data"
    },
    {
     "data": {
      "application/vnd.jupyter.widget-view+json": {
       "model_id": "94bcda71d6a644e68844dc754bce8867",
       "version_major": 2,
       "version_minor": 0
      },
      "text/plain": [
       "vocab.json: 0.00B [00:00, ?B/s]"
      ]
     },
     "metadata": {},
     "output_type": "display_data"
    },
    {
     "data": {
      "application/vnd.jupyter.widget-view+json": {
       "model_id": "e521dc357475493ebf66dfa584f4c440",
       "version_major": 2,
       "version_minor": 0
      },
      "text/plain": [
       "vae/diffusion_pytorch_model.safetensors:   0%|          | 0.00/335M [00:00<?, ?B/s]"
      ]
     },
     "metadata": {},
     "output_type": "display_data"
    },
    {
     "data": {
      "application/vnd.jupyter.widget-view+json": {
       "model_id": "1520563b024743febe18d25d33b13782",
       "version_major": 2,
       "version_minor": 0
      },
      "text/plain": [
       "unet/diffusion_pytorch_model.safetensors:   0%|          | 0.00/3.44G [00:00<?, ?B/s]"
      ]
     },
     "metadata": {},
     "output_type": "display_data"
    },
    {
     "data": {
      "application/vnd.jupyter.widget-view+json": {
       "model_id": "71337b65c99c4368a4ec461d65c630dd",
       "version_major": 2,
       "version_minor": 0
      },
      "text/plain": [
       "Loading pipeline components...:   0%|          | 0/7 [00:00<?, ?it/s]"
      ]
     },
     "metadata": {},
     "output_type": "display_data"
    },
    {
     "name": "stderr",
     "output_type": "stream",
     "text": [
      "`torch_dtype` is deprecated! Use `dtype` instead!\n"
     ]
    },
    {
     "data": {
      "application/vnd.jupyter.widget-view+json": {
       "model_id": "da31126a05df4ca2b5b377bc189c827b",
       "version_major": 2,
       "version_minor": 0
      },
      "text/plain": [
       "  0%|          | 0/50 [00:00<?, ?it/s]"
      ]
     },
     "metadata": {},
     "output_type": "display_data"
    }
   ],
   "source": [
    "from diffusers import StableDiffusionPipeline\n",
    "import torch\n",
    "\n",
    "model_id = \"sd-legacy/stable-diffusion-v1-5\"\n",
    "pipe = StableDiffusionPipeline.from_pretrained(model_id, torch_dtype=torch.float16)\n",
    "pipe = pipe.to(\"cuda\")\n",
    "\n",
    "prompt = \"The Director is directing a scene that sun rising in the middle of the forest\"\n",
    "image = pipe(prompt).images[0]\n",
    "\n",
    "image.save(\"Director.png\")\n"
   ]
  },
  {
   "cell_type": "code",
   "execution_count": 13,
   "metadata": {
    "colab": {
     "base_uri": "https://localhost:8080/",
     "height": 695,
     "referenced_widgets": [
      "49041676af124a6486aa5efaf90becd4",
      "07772552eddd4d57b0089027bc11e502",
      "663ac536035e4f0c8a28b2bb79931bd9",
      "2a083ef4762247f7b8238f0d422b1aef",
      "55557acce08a42d1bef23823f895c1d0",
      "4623948eb60b44b9a7a45cf2f6c9cdda",
      "60b85633d1124a56a0afc72767288504",
      "d64e0d9319aa4618a7bedb4b86afa2c7",
      "85a3e7088dd041678d124edca17e8520",
      "7bc622edad794674867299a3133c822f",
      "9399f1dae9d2465b967af52b5cd68de0"
     ]
    },
    "executionInfo": {
     "elapsed": 26956,
     "status": "ok",
     "timestamp": 1757934327059,
     "user": {
      "displayName": "Yashwanth Kumar",
      "userId": "04073106945765763472"
     },
     "user_tz": -330
    },
    "id": "SxwBz1tL-pQN",
    "outputId": "bb681a6d-a42e-4b94-9379-2d451b9e252b"
   },
   "outputs": [
    {
     "name": "stderr",
     "output_type": "stream",
     "text": [
      "Keyword arguments {'use_auth_token': True} are not expected by StableDiffusionPipeline and will be ignored.\n"
     ]
    },
    {
     "data": {
      "application/vnd.jupyter.widget-view+json": {
       "model_id": "49041676af124a6486aa5efaf90becd4",
       "version_major": 2,
       "version_minor": 0
      },
      "text/plain": [
       "Loading pipeline components...:   0%|          | 0/7 [00:00<?, ?it/s]"
      ]
     },
     "metadata": {},
     "output_type": "display_data"
    },
    {
     "name": "stdout",
     "output_type": "stream",
     "text": [
      "It looks like you are running Gradio on a hosted Jupyter notebook, which requires `share=True`. Automatically setting `share=True` (you can turn this off by setting `share=False` in `launch()` explicitly).\n",
      "\n",
      "Colab notebook detected. To show errors in colab notebook, set debug=True in launch()\n",
      "* Running on public URL: https://6bea4fcef8ba949473.gradio.live\n",
      "\n",
      "This share link expires in 1 week. For free permanent hosting and GPU upgrades, run `gradio deploy` from the terminal in the working directory to deploy to Hugging Face Spaces (https://huggingface.co/spaces)\n"
     ]
    },
    {
     "data": {
      "text/html": [
       "<div><iframe src=\"https://6bea4fcef8ba949473.gradio.live\" width=\"100%\" height=\"500\" allow=\"autoplay; camera; microphone; clipboard-read; clipboard-write;\" frameborder=\"0\" allowfullscreen></iframe></div>"
      ],
      "text/plain": [
       "<IPython.core.display.HTML object>"
      ]
     },
     "metadata": {},
     "output_type": "display_data"
    },
    {
     "data": {
      "text/plain": []
     },
     "execution_count": 13,
     "metadata": {},
     "output_type": "execute_result"
    }
   ],
   "source": [
    "import gradio as gr\n",
    "from diffusers import StableDiffusionPipeline\n",
    "import torch\n",
    "\n",
    "model_id = \"sd-legacy/stable-diffusion-v1-5\"\n",
    "pipe = StableDiffusionPipeline.from_pretrained(model_id, torch_dtype=torch.float16,use_auth_token = True)\n",
    "pipe = pipe.to(\"cuda\")\n",
    "\n",
    "\n",
    "def generated_image(prompt):\n",
    "  image = pipe(prompt).images[0]\n",
    "  # image.save(f\"outputs/{prompt}.png\")\n",
    "  return image\n",
    "\n",
    "gr.Interface(\n",
    "    fn = generated_image,\n",
    "    inputs = gr.Textbox(label = 'Enter your prompt', placeholder = 'A Director is directing a scene in the middle of coconut farm that capturing snow drizzle'),\n",
    "    outputs = gr.Image(type='pil',label='Generated Image'),\n",
    "    title = 'Yashwanth Kumar Text-to-Image Generator',\n",
    "    description ='Enter your prompt and see your generated image').launch()"
   ]
  },
  {
   "cell_type": "code",
   "execution_count": null,
   "metadata": {
    "id": "f0cJMnJX-pSs"
   },
   "outputs": [],
   "source": []
  }
 ],
 "metadata": {
  "accelerator": "GPU",
  "colab": {
   "authorship_tag": "ABX9TyNpFIK9IUAI9TvThJnlGG0/",
   "gpuType": "T4",
   "mount_file_id": "1C00jJNtMmlFcqtdjp-jwGN5g711VZNkA",
   "provenance": []
  },
  "kernelspec": {
   "display_name": "Python 3",
   "name": "python3"
  },
  "language_info": {
   "name": "python"
  }
 },
 "nbformat": 4,
 "nbformat_minor": 0
}
